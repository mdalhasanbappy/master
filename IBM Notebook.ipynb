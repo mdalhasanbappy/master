{
    "cells": [
        {
            "cell_type": "markdown",
            "metadata": {},
            "source": "# My Jupyter Notebook on IBM Watson Studio "
        },
        {
            "cell_type": "markdown",
            "metadata": {},
            "source": "#### MD AL HASAN BAPPY\n\nData Scientist\n"
        },
        {
            "cell_type": "markdown",
            "metadata": {},
            "source": "*I am interested in Data Science because I want to do something creative that revoluate the world*"
        },
        {
            "cell_type": "code",
            "execution_count": 1,
            "metadata": {},
            "outputs": [
                {
                    "name": "stdout",
                    "output_type": "stream",
                    "text": "What up?\n"
                }
            ],
            "source": "print('What up?')"
        },
        {
            "cell_type": "markdown",
            "metadata": {},
            "source": "> Everything will be fine within someday\n\nWhere are you now\n---\n***\n[Needs Help](https://www.google.com)\n"
        },
        {
            "cell_type": "code",
            "execution_count": null,
            "metadata": {},
            "outputs": [],
            "source": ""
        }
    ],
    "metadata": {
        "kernelspec": {
            "display_name": "Python 3.7",
            "language": "python",
            "name": "python3"
        },
        "language_info": {
            "codemirror_mode": {
                "name": "ipython",
                "version": 3
            },
            "file_extension": ".py",
            "mimetype": "text/x-python",
            "name": "python",
            "nbconvert_exporter": "python",
            "pygments_lexer": "ipython3",
            "version": "3.7.10"
        }
    },
    "nbformat": 4,
    "nbformat_minor": 1
}